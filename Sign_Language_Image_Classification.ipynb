{
  "nbformat": 4,
  "nbformat_minor": 0,
  "metadata": {
    "colab": {
      "name": "Sign Language Image Classification",
      "provenance": []
    },
    "kernelspec": {
      "name": "python3",
      "display_name": "Python 3"
    },
    "language_info": {
      "name": "python"
    }
  },
  "cells": [
    {
      "cell_type": "code",
      "execution_count": null,
      "metadata": {
        "id": "m9BFqMNi8id_"
      },
      "outputs": [],
      "source": [
        "#load our libraries \n",
        "import pandas as pd\n",
        "import numpy as np\n",
        "import random\n",
        "import matplotlib.pyplot as plt\n",
        "from tensorflow.keras.utils import to_categorical\n",
        "from keras.models import sequential\n",
        "from keras.layers import Conv2D, MaxPooling2D, Dense, Flatten, Dropout "
      ]
    },
    {
      "cell_type": "code",
      "source": [
        "train = pd.read_csv('/content/sign_mist_train.csv.zip')\n",
        "test = pd.read_csv('/content/sign_mist_train.csv.zip')"
      ],
      "metadata": {
        "id": "3yr2XYypInjm"
      },
      "execution_count": null,
      "outputs": []
    },
    {
      "cell_type": "code",
      "source": [
        "#datasets as numpy arrays\n",
        "import numpy as np\n",
        "train_data = np.array(train, dtype = 'float32')\n",
        "test_data = np.array(test, dtype = 'float32')"
      ],
      "metadata": {
        "id": "VSb_QXJTI4Dz"
      },
      "execution_count": null,
      "outputs": []
    },
    {
      "cell_type": "code",
      "source": [
        "np.shape(train_data)"
      ],
      "metadata": {
        "id": "RVLJ79AgI7DY"
      },
      "execution_count": null,
      "outputs": []
    },
    {
      "cell_type": "code",
      "source": [
        "np.shape(test_data)"
      ],
      "metadata": {
        "id": "3VflqshEI_JR"
      },
      "execution_count": null,
      "outputs": []
    },
    {
      "cell_type": "code",
      "source": [
        "#defining class labels to make it easier for us to understand\n",
        "Class_names = ['A', 'B', 'C', 'D', 'E', 'F', 'G', 'H', 'I', 'J', 'K', 'L', 'M', \n",
        "               'N', 'O', 'P', 'Q', 'R', 'S', 'T', 'U', 'V', 'W', 'X', 'Y']"
      ],
      "metadata": {
        "id": "DsTrFW2wJDq9"
      },
      "execution_count": null,
      "outputs": []
    },
    {
      "cell_type": "code",
      "source": [
        "#Check this works by plotting a few images and labels\n",
        "i = random.randint(1, train.shape[0])\n",
        "fig1, ax1 = plt.subplots (figsize=(2,2))\n",
        "plt.imshow(train_data[i,1:].reshape((28,28)), cmap ='gray')\n",
        "print( \"Label for the image is: \", Class_names[int(train_data[i,0])])"
      ],
      "metadata": {
        "id": "gGOpbdKgJKvF"
      },
      "execution_count": null,
      "outputs": []
    },
    {
      "cell_type": "code",
      "source": [
        "#data distribution visualization\n",
        "fig = plt.figure(figsize=(18,18))\n",
        "ax1 = fig.add_subplot(221)\n",
        "train['label'].value_counts().plot(kind='bar', ax=ax1)\n",
        "ax1.set_ylabel('Count')\n",
        "ax1.set_title('Label')"
      ],
      "metadata": {
        "id": "U3z9Lvl0JThl"
      },
      "execution_count": null,
      "outputs": []
    },
    {
      "cell_type": "code",
      "source": [
        "x_train = train_data[:,1:]/255\n",
        "x_test = test_data[:,1:]/255"
      ],
      "metadata": {
        "id": "nm1LC16GJWTK"
      },
      "execution_count": null,
      "outputs": []
    },
    {
      "cell_type": "code",
      "source": [
        "y_train = train_data[:, 0]\n",
        "y_train_cat = to_categorical(y_train, num_classes=25)"
      ],
      "metadata": {
        "id": "Cfg0ORdnJZTL"
      },
      "execution_count": null,
      "outputs": []
    },
    {
      "cell_type": "code",
      "source": [
        "y_test = test_data[:, 0]\n",
        "y_test_cat = to_categorical(y_test, num_classes =25)"
      ],
      "metadata": {
        "id": "BeYYowh7JcdD"
      },
      "execution_count": null,
      "outputs": []
    },
    {
      "cell_type": "code",
      "source": [
        "x_train = x_train.reshape(x_train.shape[0], *(28,28,1))\n",
        "x_test = x_test.reshape(x_test.shape[0], *(28,28,1))"
      ],
      "metadata": {
        "id": "aC__HPdHJoLn"
      },
      "execution_count": null,
      "outputs": []
    },
    {
      "cell_type": "code",
      "source": [
        "#Model\n",
        "model = Sequential()"
      ],
      "metadata": {
        "id": "MwKpts3fJvzP"
      },
      "execution_count": null,
      "outputs": []
    },
    {
      "cell_type": "code",
      "source": [
        "model.add(Conv2D(32, (3,3), input_shape = (28,28,1), activation='relu'))\n",
        "model.add(MaxPooling2D(pool_size=(2,2)))\n",
        "model.add(Dropout(0.2))"
      ],
      "metadata": {
        "id": "EWLWYMDLJ1di"
      },
      "execution_count": null,
      "outputs": []
    },
    {
      "cell_type": "code",
      "source": [
        "model.add(Conv2D(64, (3,3), activation='relu'))\n",
        "model.add(MaxPooling2D(pool_size=(2,2)))\n",
        "model.add(Dropout(0.2))"
      ],
      "metadata": {
        "id": "DZrayPthJ6qF"
      },
      "execution_count": null,
      "outputs": []
    },
    {
      "cell_type": "code",
      "source": [
        "model.add(Conv2D(128, (3,3), activation='relu'))\n",
        "model.add(MaxPooling2D(pool_size=(2,2)))\n",
        "model.add(Dropout(0.2))"
      ],
      "metadata": {
        "id": "yJSatEoaJ9oA"
      },
      "execution_count": null,
      "outputs": []
    },
    {
      "cell_type": "code",
      "source": [
        "model.add(Flatten())"
      ],
      "metadata": {
        "id": "QBKQ0-_xKAGu"
      },
      "execution_count": null,
      "outputs": []
    },
    {
      "cell_type": "code",
      "source": [
        "model.add(Dense(128, activation = 'relu'))\n",
        "model.add(Dense(25, activation = 'softmax'))"
      ],
      "metadata": {
        "id": "j9MK3THtKCfW"
      },
      "execution_count": null,
      "outputs": []
    },
    {
      "cell_type": "code",
      "source": [
        "model.compile(loss ='categorical_crossentropy', optimizer = 'adam', metrics = ['acc'] )\n",
        "model.summary()"
      ],
      "metadata": {
        "id": "7uR4Qh7eKEyx"
      },
      "execution_count": null,
      "outputs": []
    },
    {
      "cell_type": "code",
      "source": [
        "history = model.fit(x_train, y_train_cat, batch_size = 128, epochs = 10, verbos"
      ],
      "metadata": {
        "id": "eJCidfYaKHpt"
      },
      "execution_count": null,
      "outputs": []
    },
    {
      "cell_type": "code",
      "source": [
        "#plotting the training and validation accuracy and loss at each epoch\n",
        "loss = history.history['loss']\n",
        "val_loss = history.history['val_loss']\n",
        "epochs = range(1, len(loss) + 1)\n",
        "plt.plot(epochs, loss, 'y', label ='Training loss')\n",
        "plt.plot(epochs, val_loss, 'r', label = 'Validation loss')\n",
        "plt.title('Training and Validation loss')\n",
        "plt.xlabel('Epochs')\n",
        "plt.ylabel('Loss')\n",
        "plt.legend()\n",
        "plt.show()"
      ],
      "metadata": {
        "id": "x5AwhlfcKLqS"
      },
      "execution_count": null,
      "outputs": []
    },
    {
      "cell_type": "code",
      "source": [
        "acc=history.history['acc']\n",
        "val_acc = history.history['val_acc']"
      ],
      "metadata": {
        "id": "FA8OUi0vKO_l"
      },
      "execution_count": null,
      "outputs": []
    },
    {
      "cell_type": "code",
      "source": [
        "plt.plot(epochs, acc, 'y', label ='Training acc')\n",
        "plt.plot(epochs, val_acc, 'r', label ='Validation acc')\n",
        "plt.title('Training and Validation accuracy')\n",
        "plt.xlabel('Epochs')\n",
        "plt.ylabel('Accuracy')\n",
        "plt.legend()\n",
        "plt.show"
      ],
      "metadata": {
        "id": "r6a2MBFDKSbl"
      },
      "execution_count": null,
      "outputs": []
    },
    {
      "cell_type": "code",
      "source": [
        "model=Sequential()\n",
        "prediction = np.argmax(model.predict(x_test), axis=1)\n",
        "prediction = np.squeeze(prediction, axis = 2)\n",
        "prediction = prediction.flatten()\n",
        "print(np.shape(prediction))"
      ],
      "metadata": {
        "id": "RJ7pBWC-Kbcs"
      },
      "execution_count": null,
      "outputs": []
    },
    {
      "cell_type": "code",
      "source": [
        "from sklearn.metrics import accuracy_score\n",
        "accuracy = accuracy_score(y_test, prediction)\n",
        "print('Accuracy Score = ', accuracy)"
      ],
      "metadata": {
        "id": "MRjJY2BxKdk1"
      },
      "execution_count": null,
      "outputs": []
    },
    {
      "cell_type": "code",
      "source": [
        "np.shape(y_test)"
      ],
      "metadata": {
        "id": "ZikYZgzaKfjm"
      },
      "execution_count": null,
      "outputs": []
    },
    {
      "cell_type": "code",
      "source": [
        "i =random.randint(1, len(prediction))\n",
        "plt.imshow(x_test[i,:,:,0])\n",
        "print(\"Predicted Label: \", Class_names[int(prediction[i])])\n",
        "print(\"True Label: \", Class_names[int(y_test[i])])"
      ],
      "metadata": {
        "id": "THly1CH9Khoi"
      },
      "execution_count": null,
      "outputs": []
    },
    {
      "cell_type": "code",
      "source": [
        "from sklearn.metrics import confusion_matrix\n",
        "import seaborn as sns"
      ],
      "metadata": {
        "id": "NBmY7dReKjl1"
      },
      "execution_count": null,
      "outputs": []
    },
    {
      "cell_type": "code",
      "source": [
        "cm = confusion_matrix(y_test, prediction)\n",
        "\n",
        "fig, ax = plt.subplots(figsize=(12,12))\n",
        "sns.set(font_scale=1.6)\n",
        "sns.heatmap(cm, annot=True, linewidths=.5, ax=ax)\n",
        "\n",
        "\n",
        "#PLot fractional incorrect misclassifications\n",
        "incorr_fraction = 1 - np.diag(cm) / np.sum(cm, axis=1)\n",
        "fig, ax = plt.subplots(figsize=(12,12))\n",
        "plt.bar(np.arange(24), incorr_fraction)\n",
        "plt.xlabel('True Label')\n",
        "plt.ylabel('Fraction of incorrect predictions')\n",
        "plt.xticks(np.arange(24), class_names)"
      ],
      "metadata": {
        "id": "1MiE1_TOKlai"
      },
      "execution_count": null,
      "outputs": []
    }
  ]
}